{
 "cells": [
  {
   "cell_type": "code",
   "execution_count": 1,
   "id": "bc02c145",
   "metadata": {},
   "outputs": [],
   "source": [
    "import numpy as np\n",
    "import pandas as pd\n",
    "import matplotlib.pyplot as plt\n",
    "import torch\n",
    "import torch.nn as nn\n",
    "import torch.optim as optim\n",
    "from torch.utils.data import Dataset, DataLoader\n",
    "from sklearn.model_selection import StratifiedKFold\n",
    "from sklearn.metrics import accuracy_score\n",
    "from tqdm import tqdm"
   ]
  },
  {
   "cell_type": "code",
   "execution_count": 2,
   "id": "bb92d401",
   "metadata": {},
   "outputs": [],
   "source": [
    "SEED = 42\n",
    "np.random.seed(SEED)\n",
    "torch.manual_seed(SEED)\n",
    "torch.backends.cudnn.deterministic = True\n",
    "torch.backends.cudnn.benchmark = False\n",
    "device = torch.device(\"cuda\" if torch.cuda.is_available() else \"cpu\")"
   ]
  },
  {
   "cell_type": "code",
   "execution_count": 3,
   "id": "dbd05694",
   "metadata": {},
   "outputs": [],
   "source": [
    "train_df = pd.read_csv('../data/train.csv')\n",
    "test_df = pd.read_csv('../data/test.csv')\n",
    "dig_df = pd.read_csv('../data/Dig-MNIST.csv')"
   ]
  },
  {
   "cell_type": "code",
   "execution_count": 4,
   "id": "45d66507",
   "metadata": {},
   "outputs": [],
   "source": [
    "pixel_columns = [col for col in train_df.columns if col.startswith(\"pixel\")]\n",
    "X = train_df[pixel_columns].values.reshape(-1, 1, 28, 28) / 255.0\n",
    "y = train_df[\"label\"].values\n",
    "X_test = test_df[pixel_columns].values.reshape(-1, 1, 28, 28) / 255.0\n",
    "X_dig = dig_df[pixel_columns].values.reshape(-1, 1, 28, 28) / 255.0\n",
    "y_dig = dig_df[\"label\"].values"
   ]
  },
  {
   "cell_type": "code",
   "execution_count": 5,
   "id": "13612995",
   "metadata": {},
   "outputs": [],
   "source": [
    "class MNISTDataset(Dataset):\n",
    "    def __init__(self, images, labels=None):\n",
    "        self.images = torch.tensor(images, dtype=torch.float32)\n",
    "        self.labels = torch.tensor(\n",
    "            labels, dtype=torch.long) if labels is not None else None\n",
    "\n",
    "    def __len__(self):\n",
    "        return len(self.images)\n",
    "\n",
    "    def __getitem__(self, idx):\n",
    "        return (self.images[idx], self.labels[idx]) if self.labels is not None else self.images[idx]"
   ]
  },
  {
   "cell_type": "code",
   "execution_count": 6,
   "id": "8423f829",
   "metadata": {},
   "outputs": [],
   "source": [
    "class CNNModel(nn.Module):\n",
    "    def __init__(self):\n",
    "        super().__init__()\n",
    "        self.model = nn.Sequential(\n",
    "            nn.Conv2d(1, 32, 3, padding=1), nn.BatchNorm2d(32), nn.ReLU(),\n",
    "            nn.Conv2d(32, 64, 3, padding=1), nn.BatchNorm2d(64), nn.ReLU(),\n",
    "            nn.MaxPool2d(2), nn.Dropout(0.25),\n",
    "            nn.Conv2d(64, 128, 3, padding=1), nn.BatchNorm2d(128), nn.ReLU(),\n",
    "            nn.MaxPool2d(2), nn.Dropout(0.25),\n",
    "            nn.Flatten(),\n",
    "            nn.Linear(128 * 7 * 7, 256), nn.ReLU(), nn.Dropout(0.5),\n",
    "            nn.Linear(256, 10)\n",
    "        )\n",
    "\n",
    "    def forward(self, x):\n",
    "        return self.model(x)\n",
    "\n",
    "\n",
    "def train_one_epoch(model, loader, criterion, optimizer):\n",
    "    model.train()\n",
    "    total_loss = 0\n",
    "    for x, y in loader:\n",
    "        x, y = x.to(device), y.to(device)\n",
    "        optimizer.zero_grad()\n",
    "        outputs = model(x)\n",
    "        loss = criterion(outputs, y)\n",
    "        loss.backward()\n",
    "        optimizer.step()\n",
    "        total_loss += loss.item()\n",
    "    return total_loss / len(loader)\n",
    "\n",
    "\n",
    "def evaluate(model, loader):\n",
    "    model.eval()\n",
    "    all_preds, all_labels = [], []\n",
    "    with torch.no_grad():\n",
    "        for x, y in loader:\n",
    "            x = x.to(device)\n",
    "            outputs = model(x)\n",
    "            preds = outputs.argmax(1).cpu().numpy()\n",
    "            all_preds.extend(preds)\n",
    "            all_labels.extend(y.numpy())\n",
    "    return accuracy_score(all_labels, all_preds)\n",
    "\n",
    "\n"
   ]
  },
  {
   "cell_type": "code",
   "execution_count": 7,
   "id": "6fb9c179",
   "metadata": {},
   "outputs": [],
   "source": [
    "skf = StratifiedKFold(n_splits=5, shuffle=True, random_state=SEED)\n",
    "val_scores, dig_scores = [], []\n",
    "test_preds_all = np.zeros((X_test.shape[0], 10))\n",
    "\n",
    "for fold, (train_idx, val_idx) in enumerate(skf.split(X, y)):\n",
    "    model = CNNModel().to(device)\n",
    "    optimizer = optim.Adam(model.parameters(), lr=0.001)\n",
    "    scheduler = optim.lr_scheduler.StepLR(optimizer, step_size=5, gamma=0.5)\n",
    "    criterion = nn.CrossEntropyLoss()\n",
    "\n",
    "    train_loader = DataLoader(MNISTDataset(\n",
    "        X[train_idx], y[train_idx]), batch_size=128, shuffle=True)\n",
    "    val_loader = DataLoader(MNISTDataset(\n",
    "        X[val_idx], y[val_idx]), batch_size=256, shuffle=False)\n",
    "    dig_loader = DataLoader(MNISTDataset(X_dig, y_dig),\n",
    "                            batch_size=256, shuffle=False)\n",
    "    test_loader = DataLoader(MNISTDataset(\n",
    "        X_test), batch_size=256, shuffle=False)\n",
    "\n",
    "    best_val_acc = 0\n",
    "    for epoch in range(1, 16):\n",
    "        loss = train_one_epoch(model, train_loader, criterion, optimizer)\n",
    "        val_acc = evaluate(model, val_loader)\n",
    "        scheduler.step()\n",
    "        if val_acc > best_val_acc:\n",
    "            best_val_acc = val_acc\n",
    "            best_model_state = model.state_dict()\n",
    "\n",
    "    model.load_state_dict(best_model_state)\n",
    "    val_scores.append(best_val_acc)\n",
    "    dig_acc = evaluate(model, dig_loader)\n",
    "    dig_scores.append(dig_acc)\n",
    "\n",
    "    test_probs_fold = []\n",
    "    with torch.no_grad():\n",
    "        for x in test_loader:\n",
    "            x = x.to(device)\n",
    "            logits = model(x)\n",
    "            probs = torch.softmax(logits, dim=1).cpu().numpy()\n",
    "            test_probs_fold.append(probs)\n",
    "    test_preds_all += np.concatenate(test_probs_fold, axis=0) / skf.n_splits"
   ]
  },
  {
   "cell_type": "code",
   "execution_count": 11,
   "id": "c706a3df",
   "metadata": {},
   "outputs": [
    {
     "name": "stdout",
     "output_type": "stream",
     "text": [
      "Avg Val Acc: 0.9968, Avg Dig Acc: 0.8005\n"
     ]
    }
   ],
   "source": [
    "final_preds = np.argmax(test_preds_all, axis=1)\n",
    "submission = pd.DataFrame(\n",
    "    {\"id\": np.arange(1, len(final_preds) + 1), \"label\": final_preds})\n",
    "submission.to_csv(\n",
    "    \"../submissions/mldl_competition3_sharifbek_submission2.csv\", index=False)\n",
    "\n",
    "print(\n",
    "    f\"Avg Val Acc: {np.mean(val_scores):.4f}, Avg Dig Acc: {np.mean(dig_scores):.4f}\")"
   ]
  },
  {
   "cell_type": "code",
   "execution_count": 12,
   "id": "377b0f18",
   "metadata": {},
   "outputs": [
    {
     "name": "stderr",
     "output_type": "stream",
     "text": [
      "[NbConvertApp] Converting notebook mldl_competition3_sharifbek_submission2.ipynb to html\n",
      "[NbConvertApp] Writing 303882 bytes to mldl_competition3_sharifbek_submission2.html\n"
     ]
    }
   ],
   "source": [
    "!jupyter nbconvert --to html \"mldl_competition3_sharifbek_submission2.ipynb\""
   ]
  }
 ],
 "metadata": {
  "kernelspec": {
   "display_name": "Python 3",
   "language": "python",
   "name": "python3"
  },
  "language_info": {
   "codemirror_mode": {
    "name": "ipython",
    "version": 3
   },
   "file_extension": ".py",
   "mimetype": "text/x-python",
   "name": "python",
   "nbconvert_exporter": "python",
   "pygments_lexer": "ipython3",
   "version": "3.12.6"
  }
 },
 "nbformat": 4,
 "nbformat_minor": 5
}
